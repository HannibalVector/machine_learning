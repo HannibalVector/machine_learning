{
 "cells": [
  {
   "cell_type": "markdown",
   "metadata": {},
   "source": [
    "Sveučilište u Zagrebu<br>\n",
    "Fakultet elektrotehnike i računarstva\n",
    "\n",
    "#Strojno učenje\n",
    "\n",
    "<a href=\"http://www.fer.unizg.hr/predmet/su\">http://www.fer.unizg.hr/predmet/su</a>\n",
    "\n",
    "Ak. god. 2015./2016.\n",
    "\n",
    "#Laboratorijska vježba 0: Uvod u SciPy\n",
    "\n",
    "(c) 2015 Domagoj Alagić\n",
    "\n",
    "<i>Verzija: 0.3</i>"
   ]
  },
  {
   "cell_type": "code",
   "execution_count": 1,
   "metadata": {
    "collapsed": false
   },
   "outputs": [
    {
     "name": "stdout",
     "output_type": "stream",
     "text": [
      "Populating the interactive namespace from numpy and matplotlib\n"
     ]
    }
   ],
   "source": [
    "import numpy as np\n",
    "import scipy as sp\n",
    "import matplotlib.pyplot as plt\n",
    "%pylab inline"
   ]
  },
  {
   "cell_type": "markdown",
   "metadata": {},
   "source": [
    "## 1."
   ]
  },
  {
   "cell_type": "markdown",
   "metadata": {},
   "source": [
    "__(a)__ Kreirajte dvije liste: $a = [2, 4, 5, 6, 8, 13]$ i $b = [1, 3, 10, 13, 15]$."
   ]
  },
  {
   "cell_type": "code",
   "execution_count": 94,
   "metadata": {
    "collapsed": false
   },
   "outputs": [
    {
     "name": "stdout",
     "output_type": "stream",
     "text": [
      "[2, 4, 5, 6, 8, 13]\n",
      "[1, 3, 10, 13, 15]\n"
     ]
    }
   ],
   "source": [
    "a = [2, 4, 5, 6, 8, 13]\n",
    "b = [1, 3, 10, 13, 15]\n",
    "print(a)\n",
    "print(b)"
   ]
  },
  {
   "cell_type": "markdown",
   "metadata": {},
   "source": [
    "__(b)__ Napišite kôd koji konkatenira liste $a$ i $b$ u listu $c$:"
   ]
  },
  {
   "cell_type": "code",
   "execution_count": 28,
   "metadata": {
    "collapsed": false
   },
   "outputs": [
    {
     "data": {
      "text/plain": [
       "[2, 4, 5, 6, 8, 13, 1, 3, 10, 13, 15]"
      ]
     },
     "execution_count": 28,
     "metadata": {},
     "output_type": "execute_result"
    }
   ],
   "source": [
    "c = a + b;\n",
    "c"
   ]
  },
  {
   "cell_type": "markdown",
   "metadata": {},
   "source": [
    "__(c)__ Sortirajte listu $c$:"
   ]
  },
  {
   "cell_type": "code",
   "execution_count": 29,
   "metadata": {
    "collapsed": false
   },
   "outputs": [
    {
     "data": {
      "text/plain": [
       "[1, 2, 3, 4, 5, 6, 8, 10, 13, 13, 15]"
      ]
     },
     "execution_count": 29,
     "metadata": {},
     "output_type": "execute_result"
    }
   ],
   "source": [
    "c.sort();\n",
    "c"
   ]
  },
  {
   "cell_type": "markdown",
   "metadata": {},
   "source": [
    "__(d)__ Izbacite duplikate iz liste c:"
   ]
  },
  {
   "cell_type": "code",
   "execution_count": 30,
   "metadata": {
    "collapsed": false
   },
   "outputs": [
    {
     "data": {
      "text/plain": [
       "[1, 2, 3, 4, 5, 6, 8, 10, 13, 15]"
      ]
     },
     "execution_count": 30,
     "metadata": {},
     "output_type": "execute_result"
    }
   ],
   "source": [
    "c = list(set(c));\n",
    "c"
   ]
  },
  {
   "cell_type": "markdown",
   "metadata": {},
   "source": [
    "__(e)__ Dohvatite i ispišite (pazite na indeksiranje od 0):\n",
    "* treći element,\n",
    "* zadnja dva elementa,\n",
    "* sve elemente između trećeg i šestog (uključujući treći element, isključujući šesti)."
   ]
  },
  {
   "cell_type": "code",
   "execution_count": 96,
   "metadata": {
    "collapsed": false
   },
   "outputs": [
    {
     "name": "stdout",
     "output_type": "stream",
     "text": [
      "3\n",
      "[13, 15]\n",
      "[3, 4, 5]\n"
     ]
    }
   ],
   "source": [
    "print(c[2])\n",
    "print(c[-2:])\n",
    "print(c[2:5]) "
   ]
  },
  {
   "cell_type": "markdown",
   "metadata": {},
   "source": [
    "__(f)__ Generirajte interval brojeva `ran` s elementima iz $[2, 20]$."
   ]
  },
  {
   "cell_type": "code",
   "execution_count": 180,
   "metadata": {
    "collapsed": false
   },
   "outputs": [
    {
     "data": {
      "text/plain": [
       "[2, 3, 4, 5, 6, 7, 8, 9, 10, 11, 12, 13, 14, 15, 16, 17, 18, 19, 20]"
      ]
     },
     "execution_count": 180,
     "metadata": {},
     "output_type": "execute_result"
    }
   ],
   "source": [
    "ran = range(2, 21)\n",
    "ran = list(ran)\n",
    "ran"
   ]
  },
  {
   "cell_type": "markdown",
   "metadata": {},
   "source": [
    "__(g)__ Ispišite sve generirane brojeve iz intervala skupa s njihovim indeksima u listi:"
   ]
  },
  {
   "cell_type": "code",
   "execution_count": 181,
   "metadata": {
    "collapsed": false
   },
   "outputs": [
    {
     "name": "stdout",
     "output_type": "stream",
     "text": [
      "0 :  2\n",
      "1 :  3\n",
      "2 :  4\n",
      "3 :  5\n",
      "4 :  6\n",
      "5 :  7\n",
      "6 :  8\n",
      "7 :  9\n",
      "8 :  10\n",
      "9 :  11\n",
      "10 :  12\n",
      "11 :  13\n",
      "12 :  14\n",
      "13 :  15\n",
      "14 :  16\n",
      "15 :  17\n",
      "16 :  18\n",
      "17 :  19\n",
      "18 :  20\n"
     ]
    }
   ],
   "source": [
    "for i in range(len(ran)):\n",
    "    print(i, \": \", ran[i])"
   ]
  },
  {
   "cell_type": "markdown",
   "metadata": {},
   "source": [
    "__(h)__ Korištenjem sažetog zapisa liste (engl. _list comprehension_) transformirajte listu `ran` tako da sve elemente zamijenite njihovim prirodnim logaritmom."
   ]
  },
  {
   "cell_type": "code",
   "execution_count": 182,
   "metadata": {
    "collapsed": false
   },
   "outputs": [
    {
     "data": {
      "text/plain": [
       "[0.69314718055994529,\n",
       " 1.0986122886681098,\n",
       " 1.3862943611198906,\n",
       " 1.6094379124341003,\n",
       " 1.791759469228055,\n",
       " 1.9459101490553132,\n",
       " 2.0794415416798357,\n",
       " 2.1972245773362196,\n",
       " 2.3025850929940459,\n",
       " 2.3978952727983707,\n",
       " 2.4849066497880004,\n",
       " 2.5649493574615367,\n",
       " 2.6390573296152584,\n",
       " 2.7080502011022101,\n",
       " 2.7725887222397811,\n",
       " 2.8332133440562162,\n",
       " 2.8903717578961645,\n",
       " 2.9444389791664403,\n",
       " 2.9957322735539909]"
      ]
     },
     "execution_count": 182,
     "metadata": {},
     "output_type": "execute_result"
    }
   ],
   "source": [
    "[log(x) for x in ran]"
   ]
  },
  {
   "cell_type": "markdown",
   "metadata": {},
   "source": [
    "## 2."
   ]
  },
  {
   "cell_type": "markdown",
   "metadata": {},
   "source": [
    "__(a)__ Napišite funkciju `make_3sg_form(word)` koja vraća glagol u trećem licu jednine za dani glagol u infinitivu, npr. _try_ -> _tries_. Slijedite sljedeća pravila:\n",
    "* Ako glagol završava na _y_, odbaci _y_ i dodaj _ies_.\n",
    "* Ako glagol završava na _o_, _ch_, _s_, _sh_, _x_ ili _z_, dodaj _es_.\n",
    "* Inače samo dodaj _s_.\n",
    "\n",
    "NB: Znakovni niz je zapravo polje znakova tako da vrijede \"trikovi\" za indeksiranje polja.\n",
    "\n",
    "__(b)__ Isprobajte implementiranu funkciju za _fix_, _brush_, _cry_, _play_ i _echo_. Primjetite da je ovo složen problem i da tri jednostavna pravila neće uspjeti pokriti sve slučajeve."
   ]
  },
  {
   "cell_type": "code",
   "execution_count": 111,
   "metadata": {
    "collapsed": false
   },
   "outputs": [],
   "source": [
    "def make_3sg_form(word):\n",
    "    if word[-1] == 'y':\n",
    "        return word[:-1] + 'ies';\n",
    "    for ending in ['o', 'ch', 's', 'sh', 'x', 'z']:\n",
    "        if word.endswith(ending):\n",
    "            return word +'es';\n",
    "    return word + 's';"
   ]
  },
  {
   "cell_type": "code",
   "execution_count": 112,
   "metadata": {
    "collapsed": false
   },
   "outputs": [
    {
     "data": {
      "text/plain": [
       "['fixes', 'brushes', 'cries', 'plaies', 'echoes']"
      ]
     },
     "execution_count": 112,
     "metadata": {},
     "output_type": "execute_result"
    }
   ],
   "source": [
    "[make_3sg_form(word) for word in ['fix', 'brush', 'cry', 'play', 'echo']]"
   ]
  },
  {
   "cell_type": "markdown",
   "metadata": {},
   "source": [
    "## 3."
   ]
  },
  {
   "cell_type": "markdown",
   "metadata": {},
   "source": [
    "Napišite funkciju `filterShortWords (word_list, min_length)` koja prima listu riječi i minimalnu dopuštenu duljinu riječi te vraća __novu__ listu riječi koja sadrži samo one riječi čija je duljina veća od minimalne dopuštene. Obavezno provjerite da je dana duljina riječi pozitivan broj veći od 1. Ako nije, bacite iznimku. U slučaju da korisnik nije zadao duljinu, funkcija radi jednako kao da je korisnik zadao duljinu od dva znaka (koristite podrazumijevane argumente, engl. _default arguments_). \n",
    "\n",
    "Zadatak riješite na dva načina: \n",
    "\n",
    "* __(a)__ korištenjem `for` petlji,\n",
    "* __(b)__ korištenjem sažetog zapisa liste,\n",
    "* __(c)__ korištenjem metode `filter` u kombinaciji s lambda-izrazom. \n",
    "\n",
    "__(d)__ Pokažite na primjeru da su izlazi implementiranih funkcija jednaki.\n",
    "\n",
    "NB: Podrazumijevani elementi (ili grupa istih) uvijek dolaze na kraju liste argumenata u definiciji funkcije."
   ]
  },
  {
   "cell_type": "code",
   "execution_count": 146,
   "metadata": {
    "collapsed": true
   },
   "outputs": [],
   "source": [
    "def filterShortWords_a(word_list, min_length = 2):\n",
    "    if min_length < 1:\n",
    "        raise ValueError('Minimal length should be >= 1.')\n",
    "    filtered_list = []\n",
    "    for word in word_list:\n",
    "        if len(word) >= min_length:\n",
    "            filtered_list.append(word)\n",
    "    return filtered_list"
   ]
  },
  {
   "cell_type": "code",
   "execution_count": 147,
   "metadata": {
    "collapsed": true
   },
   "outputs": [],
   "source": [
    "def filterShortWords_b(word_list, min_length = 2):\n",
    "    if min_length < 1:\n",
    "        raise ValueError('Minimal length should be >= 1.')\n",
    "    return [ word for word in word_list if len(word) >= min_length]"
   ]
  },
  {
   "cell_type": "code",
   "execution_count": 167,
   "metadata": {
    "collapsed": false
   },
   "outputs": [],
   "source": [
    "def filterShortWords_c(word_list, min_length = 2):\n",
    "    if min_length < 1:\n",
    "        raise ValueError('Minimal length should be >= 1.')\n",
    "    return list(filter(lambda word: len(word) >= min_length, word_list))"
   ]
  },
  {
   "cell_type": "code",
   "execution_count": 313,
   "metadata": {
    "collapsed": false
   },
   "outputs": [
    {
     "name": "stdout",
     "output_type": "stream",
     "text": [
      "['macka', 'jarac', 'zmija', 'lasica', 'dazdevnjak']\n",
      "['macka', 'jarac', 'zmija', 'lasica', 'dazdevnjak']\n",
      "['macka', 'jarac', 'zmija', 'lasica', 'dazdevnjak']\n"
     ]
    }
   ],
   "source": [
    "words = ['macka', 'pas', 'jarac', 'zmija', 'deva', 'morz', 'lasica', 'dazdevnjak']\n",
    "min_length = 5\n",
    "print(filterShortWords_a(words, min_length))\n",
    "print(filterShortWords_b(words, min_length))\n",
    "print(filterShortWords_c(words, min_length))"
   ]
  },
  {
   "cell_type": "markdown",
   "metadata": {},
   "source": [
    "## 4."
   ]
  },
  {
   "cell_type": "markdown",
   "metadata": {},
   "source": [
    "Dana vam je mapa koja za ključeve sadrži nazive programskih jezika, a za vrijednosti liste programskih paradigmi koje određeni jezik pokriva."
   ]
  },
  {
   "cell_type": "code",
   "execution_count": 251,
   "metadata": {
    "collapsed": false
   },
   "outputs": [],
   "source": [
    "langs_paradigms = {\n",
    "                  \"Java\" : [\"object-oriented\", \"imperative\"],\n",
    "                  \"Haskell\" : [\"functional\"],\n",
    "                  \"Lisp\" : [\"functional\", \"procedural\"]\n",
    "                  }"
   ]
  },
  {
   "cell_type": "markdown",
   "metadata": {},
   "source": [
    "Napišite razred `ProgLanguageRepository` uzimajući u obzir sljedeće stvari:\n",
    "* Konstruktor ovog razreda prima početnu mapu koja sadrži programske jezike i njihove paradigme.\n",
    "* Dana mapa sprema se kao član klase imena `data`.\n",
    "* Razred sadrži metodu `count` koja vraća broj programskih jezika dostupnih u repozitoriju.\n",
    "* Razred sadrži metodu `get_langs_paradigms (lang)` koja za dano ime programskog jezika vraća listu njegovih paradigmi ili vraća `None` ako taj jezik ne postoji u repozitoriju.\n",
    "* Razred sadrži metodu `add_lang_paradigm (lang, paradigm)` koja danom programskom jeziku dodaje paradigmu (ako je već nema).\n",
    "* Razred sadrži metodu `remove_lang_paradigm (lang, paradigm)` koja danom programskom jeziku miče danu paradigmu (ako je ima).\n",
    "* Razred ima nadjačanu metodu za znakovnu reprezentaciju koja samo ispisuje znakovnu reprezentaciju člana `data`.\n",
    "\n",
    "Pokažite na par primjera da vaša implementacija radi."
   ]
  },
  {
   "cell_type": "code",
   "execution_count": 252,
   "metadata": {
    "collapsed": false
   },
   "outputs": [],
   "source": [
    "class ProgLanguageRepository:\n",
    "    def __init__(self, data):\n",
    "        self.data = data;\n",
    "    def count(self):\n",
    "        return len(self.data);\n",
    "    def get_langs_paradigms(self, lang):\n",
    "        if lang in self.data.keys():\n",
    "            return self.data[lang]\n",
    "        else:\n",
    "            return None\n",
    "    def add_lang_paradigm(self, lang, paradigm):\n",
    "        self.data[lang].append(paradigm)\n",
    "    def remove_lang_paradigm(self, lang, paradigm):\n",
    "        if lang in self.data.keys() and paradigm in self.data[lang]:\n",
    "            self.data[lang].remove(paradigm)\n",
    "    def __repr__(self):\n",
    "        return repr(self.data)\n"
   ]
  },
  {
   "cell_type": "code",
   "execution_count": 253,
   "metadata": {
    "collapsed": false
   },
   "outputs": [
    {
     "name": "stdout",
     "output_type": "stream",
     "text": [
      "3\n",
      "['object-oriented', 'imperative']\n",
      "None\n",
      "['object-oriented']\n",
      "['object-oriented']\n",
      "['object-oriented', 'cvjetic']\n"
     ]
    }
   ],
   "source": [
    "repository = ProgLanguageRepository(langs_paradigms)\n",
    "print(repository.count())\n",
    "print(repository.get_langs_paradigms(\"Java\"))\n",
    "print(repository.get_langs_paradigms(\"Scala\"))\n",
    "repository.remove_lang_paradigm(\"Java\", 'imperative')\n",
    "print(repository.get_langs_paradigms(\"Java\"))\n",
    "repository.remove_lang_paradigm(\"Java\", 'bubica')\n",
    "print(repository.get_langs_paradigms(\"Java\"))\n",
    "repository.add_lang_paradigm(\"Java\", \"cvjetic\")\n",
    "print(repository.get_langs_paradigms(\"Java\"))"
   ]
  },
  {
   "cell_type": "code",
   "execution_count": 254,
   "metadata": {
    "collapsed": false
   },
   "outputs": [
    {
     "data": {
      "text/plain": [
       "{'Haskell': ['functional'],\n",
       " 'Java': ['object-oriented', 'cvjetic'],\n",
       " 'Lisp': ['functional', 'procedural']}"
      ]
     },
     "execution_count": 254,
     "metadata": {},
     "output_type": "execute_result"
    }
   ],
   "source": [
    "repository.data"
   ]
  },
  {
   "cell_type": "code",
   "execution_count": 255,
   "metadata": {
    "collapsed": false
   },
   "outputs": [
    {
     "data": {
      "text/plain": [
       "\"{'Java': ['object-oriented', 'cvjetic'], 'Lisp': ['functional', 'procedural'], 'Haskell': ['functional']}\""
      ]
     },
     "execution_count": 255,
     "metadata": {},
     "output_type": "execute_result"
    }
   ],
   "source": [
    "repr(repository)"
   ]
  },
  {
   "cell_type": "markdown",
   "metadata": {},
   "source": [
    "## 5."
   ]
  },
  {
   "cell_type": "markdown",
   "metadata": {},
   "source": [
    "__(a)__ Napišite kôd koji stvara sljedeća tri vektor-stupca, jedan vektor-redak i kvadratnu matricu ranga 2 (koristite `numpy` za cijeli zadatak):\n",
    "\n",
    "$ x_{1} = \\begin{pmatrix}\n",
    "1\\\\\n",
    "2\\\\\n",
    "\\end{pmatrix}$,\n",
    "$ x_{2} = \\begin{pmatrix}\n",
    "3\\\\\n",
    "5\\\\\n",
    "\\end{pmatrix}$,\n",
    "$ x_{3} = \\begin{pmatrix}\n",
    "-3\\\\\n",
    "4\\\\\n",
    "\\end{pmatrix}$,\n",
    "$ x_{4} = \\begin{pmatrix}\n",
    "4\\\\\n",
    "0\\\\\n",
    "\\end{pmatrix}^T$,\n",
    "$ A = \\begin{pmatrix}\n",
    "5 & 3 \\\\\n",
    "10 & 6 \\\\\n",
    "\\end{pmatrix}\n",
    "$\n",
    "\n",
    "__(b)__ Zatim napišite naredbe koje stvaraju dvije nove matrice: matricu $C$ dimenzija $2\\times3$ koja se dobije tako da se vektor-stupci poredaju horizontalno jedan kraj drugog te matricu $D$ dimenzija $3\\times2$ koja se dobije tako da se matrica $A$ postavi ispod danog vektor-retka."
   ]
  },
  {
   "cell_type": "code",
   "execution_count": 269,
   "metadata": {
    "collapsed": false
   },
   "outputs": [
    {
     "data": {
      "text/plain": [
       "array([[ 5,  3],\n",
       "       [10,  6]])"
      ]
     },
     "execution_count": 269,
     "metadata": {},
     "output_type": "execute_result"
    }
   ],
   "source": [
    "x1 = array([[1], [2]])\n",
    "x2 = array([[3], [5]])\n",
    "x3 = array([[-3], [4]])\n",
    "x4 = array([4, 0])\n",
    "A = array([[5, 3], [10, 6]])\n",
    "A"
   ]
  },
  {
   "cell_type": "code",
   "execution_count": 273,
   "metadata": {
    "collapsed": false
   },
   "outputs": [
    {
     "data": {
      "text/plain": [
       "array([[ 1,  3, -3],\n",
       "       [ 2,  5,  4]])"
      ]
     },
     "execution_count": 273,
     "metadata": {},
     "output_type": "execute_result"
    }
   ],
   "source": [
    "C = hstack((x1, x2, x3))\n",
    "C"
   ]
  },
  {
   "cell_type": "code",
   "execution_count": 274,
   "metadata": {
    "collapsed": false
   },
   "outputs": [
    {
     "data": {
      "text/plain": [
       "array([[ 4,  0],\n",
       "       [ 5,  3],\n",
       "       [10,  6]])"
      ]
     },
     "execution_count": 274,
     "metadata": {},
     "output_type": "execute_result"
    }
   ],
   "source": [
    "D = vstack((x4, A))\n",
    "D"
   ]
  },
  {
   "cell_type": "markdown",
   "metadata": {},
   "source": [
    "__(c)__ Izračunajte umnožak matrica $C$ i $D$ te ga pohranite u matricu $U$."
   ]
  },
  {
   "cell_type": "code",
   "execution_count": 275,
   "metadata": {
    "collapsed": false
   },
   "outputs": [
    {
     "data": {
      "text/plain": [
       "array([[-11,  -9],\n",
       "       [ 73,  39]])"
      ]
     },
     "execution_count": 275,
     "metadata": {},
     "output_type": "execute_result"
    }
   ],
   "source": [
    "U = C.dot(D)\n",
    "U"
   ]
  },
  {
   "cell_type": "markdown",
   "metadata": {},
   "source": [
    "__(d)__ Nadalje, napišite kôd koji izračunava inverz matrice $U$ (spremiti u matricu $I$) kojeg zatim transponira (i sprema u matricu $R$)."
   ]
  },
  {
   "cell_type": "code",
   "execution_count": 287,
   "metadata": {
    "collapsed": false
   },
   "outputs": [
    {
     "name": "stdout",
     "output_type": "stream",
     "text": [
      "[[  1.00000000e+00   2.22044605e-16]\n",
      " [  0.00000000e+00   1.00000000e+00]]\n",
      "[[ 0.17105263 -0.32017544]\n",
      " [ 0.03947368 -0.04824561]]\n"
     ]
    }
   ],
   "source": [
    "I = inv(U)\n",
    "R = I.transpose()\n",
    "print(I.dot(U))\n",
    "print(R)"
   ]
  },
  {
   "cell_type": "markdown",
   "metadata": {},
   "source": [
    "__(e)__ Izračunajte sumu svih elemenata u matrici $D$ (spremite u varijablu `D_total`), ali i sume po zasebnim dimenzijama (`D_x`, `D_y`)."
   ]
  },
  {
   "cell_type": "code",
   "execution_count": 289,
   "metadata": {
    "collapsed": false
   },
   "outputs": [
    {
     "data": {
      "text/plain": [
       "28"
      ]
     },
     "execution_count": 289,
     "metadata": {},
     "output_type": "execute_result"
    }
   ],
   "source": [
    "D_total = D.sum()\n",
    "D_total"
   ]
  },
  {
   "cell_type": "code",
   "execution_count": 293,
   "metadata": {
    "collapsed": false
   },
   "outputs": [
    {
     "data": {
      "text/plain": [
       "array([ 4,  8, 16])"
      ]
     },
     "execution_count": 293,
     "metadata": {},
     "output_type": "execute_result"
    }
   ],
   "source": [
    "D_x = D.sum(axis=1)\n",
    "D_x"
   ]
  },
  {
   "cell_type": "code",
   "execution_count": 292,
   "metadata": {
    "collapsed": false
   },
   "outputs": [
    {
     "data": {
      "text/plain": [
       "array([19,  9])"
      ]
     },
     "execution_count": 292,
     "metadata": {},
     "output_type": "execute_result"
    }
   ],
   "source": [
    "D_y = D.sum(axis=0)\n",
    "D_y"
   ]
  },
  {
   "cell_type": "markdown",
   "metadata": {},
   "source": [
    "__(f)__ Ispišite determinantu matrice $R$."
   ]
  },
  {
   "cell_type": "code",
   "execution_count": 294,
   "metadata": {
    "collapsed": false
   },
   "outputs": [
    {
     "data": {
      "text/plain": [
       "0.0043859649122807041"
      ]
     },
     "execution_count": 294,
     "metadata": {},
     "output_type": "execute_result"
    }
   ],
   "source": [
    "det(R)"
   ]
  },
  {
   "cell_type": "markdown",
   "metadata": {},
   "source": [
    "__(g)__ Isprobajte vrijedi li $R\\cdot R^{-1} = I$."
   ]
  },
  {
   "cell_type": "code",
   "execution_count": 295,
   "metadata": {
    "collapsed": false
   },
   "outputs": [
    {
     "data": {
      "text/plain": [
       "array([[ 1.,  0.],\n",
       "       [ 0.,  1.]])"
      ]
     },
     "execution_count": 295,
     "metadata": {},
     "output_type": "execute_result"
    }
   ],
   "source": [
    "R.dot(inv(R))"
   ]
  },
  {
   "cell_type": "markdown",
   "metadata": {},
   "source": [
    "__(h)__ Stvorite vektor-stupac $n$ dimenzija $4\\times 1$ čiji su svi elementi 0 (bez ručnog pisanja svih elemenata)."
   ]
  },
  {
   "cell_type": "code",
   "execution_count": 297,
   "metadata": {
    "collapsed": false
   },
   "outputs": [
    {
     "data": {
      "text/plain": [
       "array([[ 0.],\n",
       "       [ 0.],\n",
       "       [ 0.],\n",
       "       [ 0.]])"
      ]
     },
     "execution_count": 297,
     "metadata": {},
     "output_type": "execute_result"
    }
   ],
   "source": [
    "zeros((4, 1))"
   ]
  },
  {
   "cell_type": "markdown",
   "metadata": {},
   "source": [
    "## 6."
   ]
  },
  {
   "cell_type": "markdown",
   "metadata": {},
   "source": [
    "__(a)__ Napišite kôd koji iscrtava sljedeće funkcije:\n",
    "\n",
    "$f_{1}(x) = \\sqrt{(1-(|x|-1)^2)}$ i $f_{2}(x) = -3 \\cdot \\sqrt{(1-\\sqrt{\\frac{|x|}{2}})}$\n",
    "\n",
    "pritom definirajući domenu funkcija kao $x \\in [-2, 2]$ (u 1000 točaka). Graf funkcije $f_{1}(x)$ prikažite plavom bojom, a graf funkcije $f_{2}(x)$ crvenom. Iscrtajte oba grafa na istoj slici tako da su vidljive točke iz intervala $x \\in [-3, 3]$ i $y \\in [-3, 1.5]$.\n",
    "\n",
    "__(b)__ Ostavite oznake osi jednostavno kao $x$ i $y$. Iscrtajte legendu u donjem desnom kutu tako da je naziv funkcije $f_{1}(x)$ _bolja polovica_, a naziv funkcije $f_{2}(x)$ _dobra polovica_."
   ]
  },
  {
   "cell_type": "code",
   "execution_count": 299,
   "metadata": {
    "collapsed": true
   },
   "outputs": [],
   "source": [
    "def f1(x):\n",
    "    return sqrt(1 - (abs(x) - 1)**2)\n",
    "def f2(x):\n",
    "    return -3*sqrt(1 - sqrt(abs(x)/2))"
   ]
  },
  {
   "cell_type": "code",
   "execution_count": 373,
   "metadata": {
    "collapsed": false
   },
   "outputs": [
    {
     "data": {
      "image/png": "[encoded data removed]",
      "text/plain": [
       "<matplotlib.figure.Figure at 0x7f01389a54e0>"
      ]
     },
     "metadata": {},
     "output_type": "display_data"
    }
   ],
   "source": [
    "x = linspace(-2, 2, 1000)\n",
    "plot(x, f1(x), 'b');\n",
    "plot(x, f2(x), 'r');\n",
    "axis([-3, 3, -3, 1.5])\n",
    "xlabel('x')\n",
    "ylabel('y')\n",
    "legend(['bolja polovica', 'dobra polovica'], loc = 4);"
   ]
  },
  {
   "cell_type": "markdown",
   "metadata": {},
   "source": [
    "## 7."
   ]
  },
  {
   "cell_type": "markdown",
   "metadata": {},
   "source": [
    "__(a)__ Učitajte skup podataka _Iris_. Ovaj skup podataka sadrži 150 instanci, 50 za svaku od tri klase (_Iris setosa_, _Iris virginica_ i _Iris versicolor_). Svaka instanca, to jest vektor, sadrži četiri značajke: širinu i dužinu latice te širinu i dužinu čašićnog listića. U polju _iris.data_ nalaze se instance, dok se u _iris.target_ nalaze oznake instanci (njihove stvarne klase).  Ispišite dimenzije polja instanci te polja njihovih stvarnih oznaka."
   ]
  },
  {
   "cell_type": "code",
   "execution_count": 314,
   "metadata": {
    "collapsed": false
   },
   "outputs": [
    {
     "name": "stderr",
     "output_type": "stream",
     "text": [
      "/usr/lib/python3.5/site-packages/sklearn/utils/fixes.py:64: DeprecationWarning: inspect.getargspec() is deprecated, use inspect.signature() instead\n",
      "  if 'order' in inspect.getargspec(np.copy)[0]:\n"
     ]
    }
   ],
   "source": [
    "from sklearn import datasets"
   ]
  },
  {
   "cell_type": "code",
   "execution_count": 319,
   "metadata": {
    "collapsed": false
   },
   "outputs": [],
   "source": [
    "iris = datasets.load_iris()"
   ]
  },
  {
   "cell_type": "code",
   "execution_count": 321,
   "metadata": {
    "collapsed": false
   },
   "outputs": [
    {
     "data": {
      "text/plain": [
       "(150, 4)"
      ]
     },
     "execution_count": 321,
     "metadata": {},
     "output_type": "execute_result"
    }
   ],
   "source": [
    "shape(iris.data)"
   ]
  },
  {
   "cell_type": "code",
   "execution_count": 322,
   "metadata": {
    "collapsed": false
   },
   "outputs": [
    {
     "data": {
      "text/plain": [
       "(150,)"
      ]
     },
     "execution_count": 322,
     "metadata": {},
     "output_type": "execute_result"
    }
   ],
   "source": [
    "shape(iris.target)"
   ]
  },
  {
   "cell_type": "markdown",
   "metadata": {},
   "source": [
    "__(b)__ Budući da ne možemo vizualizirati 4-dimenzijske podatke, iz svake instance izdvojite samo prve dvije značajke. Koristite indeksiranje poljem brojeva. Ispišite dimenzije dobivenog polja instanci."
   ]
  },
  {
   "cell_type": "code",
   "execution_count": 330,
   "metadata": {
    "collapsed": false
   },
   "outputs": [
    {
     "data": {
      "text/plain": [
       "(150, 2)"
      ]
     },
     "execution_count": 330,
     "metadata": {},
     "output_type": "execute_result"
    }
   ],
   "source": [
    "iris2D = iris.data[:, [0, 1]]\n",
    "shape(iris2D)"
   ]
  },
  {
   "cell_type": "markdown",
   "metadata": {},
   "source": [
    "__(c)__ Logičkim indeksiranjem razdvojite primjere za svaku od tri klase. Ispišite dimenzije dobivenih polja."
   ]
  },
  {
   "cell_type": "code",
   "execution_count": 333,
   "metadata": {
    "collapsed": false
   },
   "outputs": [
    {
     "data": {
      "text/plain": [
       "(50, 2)"
      ]
     },
     "execution_count": 333,
     "metadata": {},
     "output_type": "execute_result"
    }
   ],
   "source": [
    "irisA = iris2D[iris.target == 0]\n",
    "shape(irisA)"
   ]
  },
  {
   "cell_type": "code",
   "execution_count": 334,
   "metadata": {
    "collapsed": false
   },
   "outputs": [
    {
     "data": {
      "text/plain": [
       "(50, 2)"
      ]
     },
     "execution_count": 334,
     "metadata": {},
     "output_type": "execute_result"
    }
   ],
   "source": [
    "irisB = iris2D[iris.target == 1]\n",
    "shape(irisB)"
   ]
  },
  {
   "cell_type": "code",
   "execution_count": 335,
   "metadata": {
    "collapsed": false
   },
   "outputs": [
    {
     "data": {
      "text/plain": [
       "(50, 2)"
      ]
     },
     "execution_count": 335,
     "metadata": {},
     "output_type": "execute_result"
    }
   ],
   "source": [
    "irisC = iris2D[iris.target == 2]\n",
    "shape(irisC)"
   ]
  },
  {
   "cell_type": "markdown",
   "metadata": {},
   "source": [
    "__(d)__ Napišite kôd koji iscrtava četiri zasebna grafa (četiri podgrafa u 2x2 mreži), pri čemu tri grafa prikazuju instance određene klase (točke u 2-dimenzijskom prostoru), a četvrti ih prikazuje sve (u različitim bojama). Osigurajte da svi grafovi prikazuju isto područje grafa (npr. $x \\in [4,9]$ i $y \\in [1.5, 5]$).\n",
    "\n",
    "Proučite kako se postavlja veličina glavnog okvira (u koji se smještaju podgrafovi) te ju postavite na 10x8."
   ]
  },
  {
   "cell_type": "code",
   "execution_count": 368,
   "metadata": {
    "collapsed": false
   },
   "outputs": [
    {
     "data": {
      "image/png": "[encoded data removed]",
      "text/plain": [
       "<matplotlib.figure.Figure at 0x7f0138b7ecf8>"
      ]
     },
     "metadata": {},
     "output_type": "display_data"
    }
   ],
   "source": [
    "figure(figsize = (10, 8))\n",
    "ax1 = subplot(221)\n",
    "scatter(irisA[:, 0], irisA[:, 1], color = 'r')\n",
    "subplot(222, sharex = ax1, sharey = ax1)\n",
    "scatter(irisB[:, 0], irisB[:, 1], color = 'g')\n",
    "subplot(223, sharex = ax1, sharey = ax1)\n",
    "scatter(irisC[:, 0], irisC[:, 1], color = 'b')\n",
    "subplot(224, sharex = ax1, sharey = ax1)\n",
    "scatter(irisA[:, 0], irisA[:, 1], color = 'r')\n",
    "scatter(irisB[:, 0], irisB[:, 1], color = 'g')\n",
    "scatter(irisC[:, 0], irisC[:, 1], color = 'b');\n",
    "axis([4, 9, 1.5, 5]);"
   ]
  },
  {
   "cell_type": "markdown",
   "metadata": {},
   "source": [
    "## 8."
   ]
  },
  {
   "cell_type": "markdown",
   "metadata": {},
   "source": [
    "__(a)__ Napišite kôd koji u petlji iscrtava grafove normalnih distribucija definiranih s parametarima $\\mu$ i $\\sigma$:\n",
    "\n",
    "* $\\mu = 3$\n",
    "* $\\sigma \\in [1, 5]$ (korak 1)\n",
    "\n",
    "Dakle, generirat ćete pet grafova normalnih distribucija: $\\mathcal{N}_{1}(\\mu = 3, \\sigma = 1)$, $\\mathcal{N}_{2}(\\mu = 3, \\sigma = 2)$, ... , $\\mathcal{N}_{1}(\\mu = 3, \\sigma = 5)$.\n",
    "\n",
    "Grafove iscrtajte na istoj slici tako da su vidljive točke iz intervala $x \\in [-15, 15]$ i $y \\in [0, 0.5]$. Za svaki graf upotrijebite drugu boju. Za domenu koristite $[-50, 50]$ (uzorkujte 1000 točaka). Također napravite legendu u gornjem lijevom kutu koji će sve grafove nazvati onako kako su i u zadatku \n",
    "definirani ($\\LaTeX$ kôd radi unutar znakovnih nizova koji definiraju oznaku unutar legende), npr. $\\mathcal{N}_{1}(\\mu = 3, \\sigma = 5)$.\n"
   ]
  },
  {
   "cell_type": "code",
   "execution_count": 402,
   "metadata": {
    "collapsed": false
   },
   "outputs": [
    {
     "data": {
      "image/png": "[encoded data removed]",
      "text/plain": [
       "<matplotlib.figure.Figure at 0x7f0131004cc0>"
      ]
     },
     "metadata": {},
     "output_type": "display_data"
    }
   ],
   "source": [
    "mu = 3\n",
    "sigmas = range(1, 6)\n",
    "distributions = [sp.stats.norm(mu, sigma) for sigma in sigmas]\n",
    "x = linspace(-50, 50, 1000)\n",
    "for dist in distributions:\n",
    "    plot(x, dist.pdf(x))\n",
    "axis([-15, 15, 0, 0.5]);\n",
    "legend(['$\\mathcal{N}_{' + str(sigma) + '}(\\mu = ' + str(mu) + ',\\, \\sigma = '  + str(sigma) + ')$'\n",
    "        for sigma in sigmas], loc=2);\n"
   ]
  },
  {
   "cell_type": "markdown",
   "metadata": {},
   "source": [
    "__(b)__ Sada pretpostavite da imate zadanu distribuciju ocjena na nekom kolegiju koja se pokorava normalnoj distribuciji $\\mathcal{N}_{G}(\\mu = 62, \\sigma = 13)$. Najprije je iscrtajte (nebitno kako), ali osigurajte da je domena $[0, 100]$ (raspon mogućih bodova na kolegiju) također uzorkovana u 1000 točaka."
   ]
  },
  {
   "cell_type": "code",
   "execution_count": 393,
   "metadata": {
    "collapsed": false
   },
   "outputs": [
    {
     "data": {
      "image/png": "[encoded data removed]",
      "text/plain": [
       "<matplotlib.figure.Figure at 0x7f01221320b8>"
      ]
     },
     "metadata": {},
     "output_type": "display_data"
    }
   ],
   "source": [
    "mu = 62\n",
    "sigma = 13\n",
    "dist = sp.stats.norm(mu, sigma)\n",
    "x = linspace(0, 100, 1000)\n",
    "plot(x, dist.pdf(x));"
   ]
  },
  {
   "cell_type": "markdown",
   "metadata": {},
   "source": [
    "__(c)__ Međutim, vi polažete kolegij naknadno na roku, a profesoru se zaista ne da ispravljati vaš ispit. Kako bi tome doskočio, profesor često koristi tradicionalnu metodu stubišta (https://www.linkedin.com/pulse/20140414044726-2259773-a-guide-to-grading-exams) koju možemo aproksimirati nasumičnim odabirom broja iz distribucije bodova na ispitu. Napišite kôd koji iz distribucije bodova $\\mathcal{N}_{G}$ dohvaća slučajnu vrijednost koja predstavlja vaš broj bodova (zaokružite bodove na cijeli broj)."
   ]
  },
  {
   "cell_type": "code",
   "execution_count": 401,
   "metadata": {
    "collapsed": false
   },
   "outputs": [
    {
     "data": {
      "text/plain": [
       "65"
      ]
     },
     "execution_count": 401,
     "metadata": {},
     "output_type": "execute_result"
    }
   ],
   "source": [
    "int(dist.rvs(size = 1))"
   ]
  },
  {
   "cell_type": "markdown",
   "metadata": {},
   "source": [
    "## 9."
   ]
  },
  {
   "cell_type": "markdown",
   "metadata": {},
   "source": [
    "Iscrtajte konture 2-dimenzijske Gausove distribucije $\\mathcal{N} (\\vec{\\mu}, \\Sigma)$ sa sljedećim parametrima:\n",
    "\n",
    "* $\\vec{\\mu} = (1, 1)$\n",
    "* $\\Sigma = \\begin{pmatrix}\n",
    "1 & 1 \\\\\n",
    "0.5 & 3 \\\\\n",
    "\\end{pmatrix}$\n",
    "\n",
    "Za domenu uzmite $x_{1} \\in [-1, 2]$ i $y_{2} \\in [-2, 2]$."
   ]
  },
  {
   "cell_type": "code",
   "execution_count": 408,
   "metadata": {
    "collapsed": false
   },
   "outputs": [
    {
     "data": {
      "image/png": "[encoded data removed]",
      "text/plain": [
       "<matplotlib.figure.Figure at 0x7f01220b3668>"
      ]
     },
     "metadata": {},
     "output_type": "display_data"
    }
   ],
   "source": [
    "mu = [1, 1]\n",
    "sigma = [[1, 1], [0.5, 3]]\n",
    "multinorm = sp.stats.multivariate_normal(mu, sigma)\n",
    "x = linspace(-1,2)\n",
    "y = linspace(-2,2)\n",
    "X, Y = meshgrid(x, y)\n",
    "XY = dstack((X, Y))\n",
    "contour(X, Y, multinorm.pdf(XY));"
   ]
  },
  {
   "cell_type": "code",
   "execution_count": null,
   "metadata": {
    "collapsed": true
   },
   "outputs": [],
   "source": []
  }
 ],
 "metadata": {
  "kernelspec": {
   "display_name": "Python 3",
   "language": "python",
   "name": "python3"
  },
  "language_info": {
   "codemirror_mode": {
    "name": "ipython",
    "version": 3
   },
   "file_extension": ".py",
   "mimetype": "text/x-python",
   "name": "python",
   "nbconvert_exporter": "python",
   "pygments_lexer": "ipython3",
   "version": "3.5.0"
  }
 },
 "nbformat": 4,
 "nbformat_minor": 0
}
