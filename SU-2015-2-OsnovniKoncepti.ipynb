{
 "cells": [
  {
   "cell_type": "markdown",
   "metadata": {
    "slideshow": {
     "slide_type": "slide"
    }
   },
   "source": [
    "Sveučilište u Zagrebu<br>\n",
    "Fakultet elektrotehnike i računarstva\n",
    "\n",
    "#Strojno učenje\n",
    "\n",
    "<a href=\"http://www.fer.unizg.hr/predmet/su\">http://www.fer.unizg.hr/predmet/su</a>\n",
    "\n",
    "Ak. god. 2015./2016.\n",
    "\n",
    "#Bilježnica 2: Osnovni koncepti strojnog učenja\n",
    "\n",
    "(c) 2015 Jan Šnajder\n",
    "\n",
    "<i>Verzija: 0.3 (2015-10-20)</i>"
   ]
  },
  {
   "cell_type": "code",
   "execution_count": 1,
   "metadata": {
    "collapsed": false
   },
   "outputs": [
    {
     "name": "stdout",
     "output_type": "stream",
     "text": [
      "Populating the interactive namespace from numpy and matplotlib\n"
     ]
    }
   ],
   "source": [
    "import scipy as sp\n",
    "import scipy.stats as stats\n",
    "import matplotlib.pyplot as plt\n",
    "from numpy.random import normal\n",
    "%pylab inline"
   ]
  },
  {
   "cell_type": "markdown",
   "metadata": {},
   "source": [
    "###Sadržaj:\n",
    "\n",
    "1. Tipični koraci primjene algoritma SU\n",
    "\n",
    "* Prostor primjera\n",
    "\n",
    "* Hipoteza i model\n",
    "\n",
    "* Empirijska pogreška\n",
    "\n",
    "* Prostor inačica\n",
    "\n",
    "* Složenost modela\n",
    "\n",
    "* Induktivna pristranost\n",
    "\n",
    "* Tri komponente svakog algoritma SU\n",
    "\n",
    "* Primjer: regresija\n",
    "\n",
    "* Problem šuma\n",
    "\n",
    "* Odabir modela"
   ]
  },
  {
   "cell_type": "markdown",
   "metadata": {},
   "source": [
    "#1. Tipični koraci primjene algoritma SU\n",
    "\n",
    "\n",
    "\n",
    "1. Priprema podataka\n",
    "\n",
    "2. (Označavanje podataka za učenje i ispitivanje)\n",
    "\n",
    "3. (Redukcija dimenzionalnosti)\n",
    "\n",
    "4. **Odabir modela**\n",
    "\n",
    "5. **Učenje modela**\n",
    "\n",
    "6. **Vrednovanje modela**\n",
    "\n",
    "7. **Dijagnostika i ispravljanje (debugging)**\n",
    "\n",
    "8. Instalacija (deployment)\n",
    "\n",
    "\n",
    "* Naš fokus su koraci 4-7"
   ]
  },
  {
   "cell_type": "markdown",
   "metadata": {},
   "source": [
    "#2. Prostor primjera\n",
    "\n",
    "\n",
    "* Prostor primjera (ulazni prostor): $\\mathcal{X}$\n",
    "\n",
    "\n",
    "* Dimenzija ulaznog prostora: $n$\n",
    "\n",
    "\n",
    "* Primjer je vektor u ulaznom prostoru: $\\mathbf{x} = (x_1, x_2, \\dots, x_n)^T \\in \\mathcal{X}$\n",
    "\n",
    "\n",
    "* Oznaka (engl. *label*) klase (za klasifikaciju) ili ciljna vrijednost (za regresiju): $y$\n",
    "\n",
    "\n",
    "* Skup oznaka klase: $\\mathcal{Y} = \\{0, \\dots, K\\}$\n",
    "  * Broj klasa: $K$\n",
    "  * Binarna klasifikacija: $K=2$, $\\mathcal{Y} = \\{0,1\\}$\n",
    "\n",
    "\n",
    "* Broj primjera: $N$\n",
    "\n",
    "\n",
    "* Skup označenih primjera za učenje: $\\mathcal{D} = \\big\\{(x^{(i)}, y^{(i)})\\big\\}_{i=1}^N \\subseteq \\mathcal{X}\\times\\mathcal{Y}$\n",
    "\n",
    "\n",
    "* Matrično:\n",
    "\\begin{array}{lllll|l}\n",
    "&x_1 & x_2 & \\cdots & x_n & \\mathbf{y}\\\\\n",
    "\\hline\n",
    "\\mathbf{x}^{(1)} = & x_1^{(1)} & x_2^{(1)} & \\cdots & x_n^{(1)} & y^{(1)}\\\\\n",
    "\\mathbf{x}^{(2)} = & x_1^{(2)} & x_2^{(2)} & \\cdots & x_n^{(2)} & y^{(2)}\\\\\n",
    "& \\vdots\\\\\n",
    "\\mathbf{x}^{(N)} = & x_1^{(N)} & x_2^{(N)} & \\cdots & x_n^{(N)} & y^{(N)}\\\\\n",
    "\\end{array}\n",
    "Matrica $\\mathcal{D}$ sastavljena je od matrice $\\mathbf{X}_{N\\times n}$ i vektora $\\mathbf{y}_{N\\times 1}$\n"
   ]
  },
  {
   "cell_type": "markdown",
   "metadata": {},
   "source": [
    "#3. Hipoteza i model\n",
    "\n",
    "* Hipoteza: $h : \\mathcal{X} \\to \\mathcal{Y}$\n",
    "  * Funkcija koja svakom primjeru (iz prostora primjera) dodjeljuje oznaku klase (iz skupa oznaka klase)\n",
    "\n",
    "\n",
    "* Binarna klasifikacija: $h : \\mathcal{Y} \\to \\{0, 1\\}$\n",
    "  * Definicija: Primjer $\\mathbf{x}\\in\\mathcal{X}$ **zadovoljava** hipotezu $h$ akko $h(\\mathbf{x})=1$\n",
    "  * Definicija: Hipoteza $h$ je **konzistentna** s primjerom $(\\mathbf{x}, y)$ akko $h(\\mathbf{x})=y$\n",
    "\n",
    "\n",
    "* Općenitije: $h(\\mathbf{x} | \\theta)$\n",
    "  * Funkcija parametrizirana parametrima $\\theta$ (vektor parametara)\n",
    "  * Npr.:\n",
    "    * Linearna regresija: $h(x) = \\theta_1 x + \\theta_0$\n",
    "    * Linearan klasifikacijski model: $h(x_1,x_2|\\theta_0,\\theta_1,\\theta_2) = \\mathbf{1}\\{\\theta_1 x_1 + \\theta_2 x_2 + \\theta_0 \\geq 0\\}$\n",
    "\n",
    "\n",
    "\n",
    "* Model $\\mathcal{H}$: skup hipoteza $h$\n",
    "\n",
    "\n",
    "* Formalno: $\\mathcal{H} = \\big\\{ h(\\mathbf{x} | \\theta)\\big\\}_{\\theta}$\n",
    "  * Familija funkcija parametriziranih s $\\theta$\n",
    "  \n",
    "  \n",
    "* Učenje (treniranje modela) svodi se na **pretraživanje** prostora hipoteza $\\mathcal{H}$ i nalaženje **najbolje** hipoteze $h\\in \\mathcal{H}$\n",
    "  * Najbolja hipoteza: ona koja najtočnije klasificira primjere (klasifikacija) odnosno daje vrijednosti najbliže ciljnim vrijednostima (regresija)\n",
    "  * Optimizacijski problem!\n",
    "  \n",
    "  \n",
    "* [Primjer: Ulazni prostor + prostor parametara]\n",
    "\n",
    "\n",
    "* $\\mathcal{H}$ je vrlo velik, pa nam često treba heuristička optimizacija"
   ]
  },
  {
   "cell_type": "markdown",
   "metadata": {},
   "source": [
    "#4. Empirijska pogreška\n",
    "\n",
    "* Iskazuje koliko točno hipoteza klasificira primjere (klasifikacija) ili koliko su vrijednosti blizu ciljnih vrijednosti (regresija)\n",
    "\n",
    "\n",
    "* Pogreška klasifikacija (engl. *misclassification error*):\n",
    "\n",
    "$$\n",
    "E(h|\\mathcal{D}) \n",
    "= \\frac{1}{N} \\sum_{i=1}^N \\mathbf{1}\\{h(\\mathbf{x})^{(i)} \\neq y^{(i)}\\}\n",
    "$$\n",
    "\n",
    "* Specifično, za binarnu klasifikaciju s $\\mathcal{Y}=\\{0,1\\}$:\n",
    "\n",
    "$$\n",
    "E(h|\\mathcal{D}) = \\frac{1}{N} \\sum_{i=1}^N |h(\\mathbf{x})^{(i)} - y^{(i)}|\n",
    "$$\n",
    "\n",
    "* [Primjer]\n",
    "\n",
    "\n",
    "* Vrijednost pogreške načinjene na pojedinačnom primjeru (funkcija unutar sume) zove se **funkcija gubitka** (engl. *loss function*)\n",
    "  * Gubitak $\\mathbf{1}\\{h(\\mathbf{x})^{(i)} \\neq y^{(i)}\\}$ zove se **gubitak nula-jedan** (engl. zero-one loss)"
   ]
  },
  {
   "cell_type": "markdown",
   "metadata": {},
   "source": [
    "#5. Prostor inačica (engl. version space)\n",
    "\n",
    "\n",
    "* $\\mathit{VS}_{\\mathcal{H},\\mathcal{D}} \\subseteq \\mathcal{H}$\n",
    "\n",
    "\n",
    "* Skup hipoteza iz $\\mathcal{H}$ koje su konzistentne s primjerima za učenje $\\mathcal{D}$\n",
    "\n",
    "$$\n",
    "\\mathit{VS}_{\\mathcal{H},\\mathcal{D}} =\n",
    "\\Big\\{h\\in\\mathcal{H} \\mid \\forall(\\mathbf{x},y)\\in\\mathcal{D}.\\ \\big(h(\\mathbf{x})=y\\big)\\Big\\}\n",
    "$$\n",
    "\n",
    "* [Primjer]\n",
    "\n"
   ]
  },
  {
   "cell_type": "markdown",
   "metadata": {},
   "source": [
    "#6. Složenost modela\n",
    "\n",
    "\n",
    "* Idealno, u modelu $\\mathcal{H}$ postoji hipoteza $h$ koja je konzistentna s $\\mathcal{D}$, tj. hipoteza za koju vrijedi $E(h|\\mathcal{D}) = 0$\n",
    "\n",
    "\n",
    "* No, moguće je da takva $h$ ne postoji, tj. $\\forall h\\in\\mathcal{H}. E(h|\\mathcal{D}) > 0$\n",
    "\n",
    "\n",
    "* Tada kažemo da model $\\mathcal{H}$ nije dovoljne **složenosti** (ili kapaciteta)\n",
    "\n",
    "\n",
    "* [Primjer]\n",
    "\n",
    "\n",
    "* [Zadatak: 6 primjera]"
   ]
  },
  {
   "cell_type": "markdown",
   "metadata": {},
   "source": [
    "#7. Induktivna pristranost (engl. inductive bias)\n",
    "\n",
    "* Učenje hipoteze je **loše definiran problem**: $h$ ne slijedi deduktivno iz $\\mathcal{D}$\n",
    "\n",
    "\n",
    "* Primjer 1: Učenje Booleove funkcije\n",
    "\n",
    "\\begin{array}{ccc|c}\n",
    "x_1 & x_2 & x_3 & y\\\\\n",
    "\\hline\n",
    "0&0&0&\\color{red}{\\textbf{?}}\\\\\n",
    "0&0&1&\\color{red}{\\textbf{?}}\\\\\n",
    "0&1&0&1\\\\\n",
    "0&1&1&0\\\\\n",
    "1&0&0&1\\\\\n",
    "1&0&1&0\\\\\n",
    "1&1&0&\\color{red}{\\textbf{?}}\\\\\n",
    "1&1&1&1\\\\\n",
    "\\end{array}\n",
    "\n",
    "* $N = |\\mathcal{D}|=5$, $n=3$, $\\mathcal{X} = \\{0,1\\}^3$, $|\\mathit{VS}| = 2^{2^n - N} = 8$\n",
    "\n",
    "\n",
    "* **Generalizacija** - sposobnost klasifikacije još neviđenih primjera\n",
    "\n",
    "\n",
    "* Učenje i generalizacija nisu mogući bez **dodatnih pretpostavki**\n",
    "  * *Futility of bias-free learning*\n",
    "\n",
    "\n",
    "* **Induktivna pristranost** (engl. inductive bias)\n",
    "  * $\\mathcal{L}$ - algoritam učenja\n",
    "  * $h_\\mathcal{L}$ - hipoteza inducirana pomoću $\\mathcal{L}$ na $\\mathcal{D}$\n",
    "  * $h_\\mathcal{L}(\\mathbf{x})$ - klasifikacija primjera $\\mathbf{x}\\in\\mathcal{X}$\n",
    "  * Induktivna pristranost od $\\mathcal{L}$ je bilo koji skup minimalnih pretpostavki $\\mathcal{B}$ takvih da \n",
    "  \n",
    "$$\n",
    "  \\forall \\mathcal{D}.\\,\\forall\\mathbf{x}\\in \\mathcal{X}.\\,\\big((\\mathcal{B}\\land\\mathcal{D}\\land\\mathbf{x})\\ \\vdash\\ h_\\mathcal{L}(\\mathbf{x})\\big)\n",
    "$$\n",
    "\n",
    "\n",
    "* Skup pretpostavki koje *od indukcije čine dedukciju*\n",
    "\n",
    "\n",
    "* Dvije vrste induktivne pristranosti:\n",
    "\n",
    "  * **Pristranost jezika** (pristranost ograničenjem): odabiremo model $\\mathcal{H}$ koji ograničava skup prikazivih hipoteza\n",
    "  \n",
    "  * **Pristranost preferencijom** (pristranost pretraživanja): definiramo način pretraživanja unutar $\\mathcal{H}$\n",
    "  \n",
    "  \n",
    "* Većina aloritama SU kombinira obje vrste pristranosti\n",
    "\n",
    "\n",
    "* [Primjer 2: Ulazni prostor + prostor parametara]\n",
    "\n",
    "\n",
    "* Zadatak 3: \n",
    "  * Učenje Booleove funkcije u $\\mathcal{X}=\\{0,1\\}$, $\\mathcal{H}$ je skup pravaca\n",
    "  * Q: Koja je ovo vrsta pristranosti?\n",
    "  * Q: Koliko različitih hipoteza postoji?\n",
    "  * Q: Postoji li za svako označavanje konzistentna hipoteza u $\\mathcal{H}$?\n",
    "  \n",
    "  \n",
    "* Razmotrimo opet Primjer 1, uz $\\mathcal{H} = \\text{skup ravnina u $\\mathbb{R}^3$}$"
   ]
  },
  {
   "cell_type": "markdown",
   "metadata": {},
   "source": [
    "#8. Tri komponente svakog algoritma SU\n",
    "\n",
    "\n",
    "* **(1) Model** $\\mathcal{H}$\n",
    "  * $\\mathcal{H} = \\big\\{ h(\\mathbf{x} | \\theta)\\big\\}_{\\theta}$\n",
    "\n",
    "\n",
    "* **(2) Funkcija gubitka** $L(y, h(\\mathbf{x}))$\n",
    "\n",
    "  * Izračunava kolika je pogreška hipoteze (naučenog modela) na primjeru $\\mathbf{x}^{(i)}$\n",
    "\n",
    "  * Uobičajene funkcije gubitka:\n",
    "    * Kvadratno odstupanje (regresija): $L\\big(y,h(\\mathbf{x}^{(i)}|\\theta)\\big)=(h(\\mathbf{x}^{(i)}|\\theta) - y^{(i)})^2$\n",
    "    * Gubitak 0-1 (klasifikacija): $L\\big(y,h(\\mathbf{x}^{(i)}|\\theta)\\big) = \\mathbf{1}\\{h(\\mathbf{x})^{(i)} \\neq y^{(i)}\\}$\n",
    " \n",
    " \n",
    "* **Funkcija pogreške** definirana je kao očekivana vrijednost funkcije gubitka na primjerima iz $\\mathcal{X}\\times\\mathcal{Y}$\n",
    "$$\n",
    "E(h) = \\mathbb{E}_{\\mathbf{x},y}[L]\n",
    "$$\n",
    "  * Međutim, prava distribucija primjera i oznaka, $P(\\mathbf{x}, y)$ je nepoznata, pa umjesto toga računamo *empirijsku pogrešku* (pogrešku na skupu označenih primjera $\\mathcal{D}$)\n",
    "$$E(h|\\mathcal{D}) = \\mathbb{E}_{D}[L] = \\frac{1}{N} \\sum_{i=1}^N L\\big(y^{(i)}, h(\\mathbf{x}^{(i)})\\big)$$\n",
    "  * Budući da su hipoteze indeksirane preko parametara $\\theta$, možemo pisati\n",
    "$$E(\\color{red}{\\theta}|\\mathcal{D}) = \\mathbb{E}_{D}[L] = \\frac{1}{N} \\sum_{i=1}^N L\\big(y^{(i)}, h(\\mathbf{x}^{(i)}|\\color{red}{\\theta})\\big)$$\n",
    "\n",
    "* **(3) Optimizacijski postupak**\n",
    "\n",
    "  * Postupak kojim nalazimo hipotezu $h^*$ koja minimizira empirijsku pogrešku\n",
    "$$\n",
    "h^* = \\mathrm{argmin}_{h\\in\\mathcal{H}} E(h|\\mathcal{D})\n",
    "$$\n",
    "tj. \n",
    "$$\n",
    "\\theta^* = \\mathrm{argmin}_{\\theta} E(\\theta|\\mathcal{D})\n",
    "$$\n",
    "\n",
    "\n",
    "* Optimizacija može biti analitička ili heuristička\n",
    "  * Analitičke postupke koristimo kada postoji rješenje u **zatvorenoj formi**\n",
    "\n",
    "\n",
    "* Gornje tri komponente definiraju i induktivnu pristranost svakog algoritma\n",
    "  * Q: Koja vrsta induktivne pristranosti je vezana uz koje komponente?"
   ]
  },
  {
   "cell_type": "markdown",
   "metadata": {},
   "source": [
    "#9. Primjer: regresija\n",
    "\n",
    "* $y \\in \\mathbb{R}$\n",
    "\n",
    "\n",
    "* Na temelju $\\mathcal{D}=\\{(\\mathbf{x}^{(i)},y^{(i)})\\}$ učimo funkciju $h$ koja aproksimira nepoznatu funkciju $f:\\mathcal{X}\\to\\mathbb{R}$\n",
    "\n",
    "\n",
    "* Idealno, $y^{(i)}=f(\\mathbf{x}^{(i)})$, ali zbog šuma  $y=f(\\mathcal{x}^{(i)})+\\varepsilon$ \n",
    "\n",
    "\n",
    "* [Primjeri: Box Office Revenue, prosjek ocjena, cijena automobila]\n",
    "\n",
    "\n",
    "* Funkcija gubitka je kvadratna:\n",
    "$$\n",
    "L(y, h(\\mathbf{x})) = (y - h(\\mathbf{x}))^2\n",
    "$$\n",
    "pa je empirijska pogreška hipoteze\n",
    "$$\n",
    "E(h|\\mathcal{D})=\\color{red}{\\frac{1}{2}}\\sum_{i=1}^N\\big(y^{(i)}-h(\\mathbf{x}^{(i)})\\big)^2\n",
    "$$\n",
    "NB: Umjesto $1/N$, kod pogreške regresije koristimo $1/2$ zbog kasnije matematičke jednostavnosti. To međutim nema utjecaja na optimizaciju (radi se o konstanti)\n",
    "\n",
    "* **Linearan model**: hiperravnina u $\\mathbb{R}^n$\n",
    "\n",
    "$$\n",
    "h(\\mathbf{x}|\\mathbf{w}) = w_1 x_1 + w_2 x_2 + \\dots + w_n x_n + w_0 = \n",
    "\\sum_{i=1}^n w_i x_i + w_0 = \\mathbf{w}^T\\mathbf{x} + w_0\n",
    "$$\n",
    "\n",
    "* Za $n=2$ imamo $\\mathcal{X}=\\mathbb{R}$. Model je\n",
    "$$\n",
    "h(x|\\mathbf{w}) = w_1 x + w_0\n",
    "$$\n",
    "funkcija gubitka je\n",
    "$$\n",
    "L(y^{(i)}, h(x^{(i)})) = \\big(y^{(i)}-(w_1 x^{(i)} + w_0)\\big)^2\n",
    "$$\n",
    "a pogreška je\n",
    "\n",
    "$$\n",
    "E(h|\\mathcal{D})=\\frac{1}{2}\n",
    "\\sum_{i=1}^N\\big(y^{(i)}-(w_1 x^{(i)} + w_0)\\big)^2\n",
    "$$"
   ]
  },
  {
   "cell_type": "markdown",
   "metadata": {},
   "source": [
    "**(1) Model**:"
   ]
  },
  {
   "cell_type": "code",
   "execution_count": 2,
   "metadata": {
    "collapsed": false
   },
   "outputs": [],
   "source": [
    "def h(x, w): return w[1] * x + w[0]"
   ]
  },
  {
   "cell_type": "markdown",
   "metadata": {},
   "source": [
    "**(2) Funkcija gubitka** (i njoj odgovarajuća funkcija pogreške):"
   ]
  },
  {
   "cell_type": "code",
   "execution_count": 3,
   "metadata": {
    "collapsed": false
   },
   "outputs": [],
   "source": [
    "def quadratic_loss(y, hx):\n",
    "    return (y - hx)**2\n",
    "    \n",
    "def error(h, X, y):\n",
    "    err = 0\n",
    "    for xi, yi in zip(X, y):\n",
    "        err += quadratic_loss(yi, h(xi))\n",
    "    return 0.5 * err"
   ]
  },
  {
   "cell_type": "markdown",
   "metadata": {},
   "source": [
    "Funkcija koja generira podatke (i koju želimo naučiti):"
   ]
  },
  {
   "cell_type": "code",
   "execution_count": 4,
   "metadata": {
    "collapsed": false
   },
   "outputs": [
    {
     "data": {
      "image/png": "[encoded data removed]",
      "text/plain": [
       "<matplotlib.figure.Figure at 0x7fc3dca13450>"
      ]
     },
     "metadata": {},
     "output_type": "display_data"
    }
   ],
   "source": [
    "def f(x): return 3 * x + 2\n",
    "xs = sp.linspace(0, 10)\n",
    "plt.plot(xs, f(xs));"
   ]
  },
  {
   "cell_type": "markdown",
   "metadata": {},
   "source": [
    "Skup primjera za učenje $\\mathcal{D}=(\\mathbf{X},\\mathbf{y})$ dobiven je iz $f(x)$, uz dodatan šum:"
   ]
  },
  {
   "cell_type": "code",
   "execution_count": 5,
   "metadata": {
    "collapsed": false
   },
   "outputs": [],
   "source": [
    "X = 10 * sp.random.random(50)\n",
    "y = f(X) + stats.norm.rvs(scale=3, size=50)"
   ]
  },
  {
   "cell_type": "code",
   "execution_count": 6,
   "metadata": {
    "collapsed": false
   },
   "outputs": [
    {
     "data": {
      "text/plain": [
       "array([ 0.2038043 ,  5.92561965,  8.87291969,  1.44185831,  4.04639465,\n",
       "        5.88615655,  9.40926572,  3.15127966,  6.81428556,  4.54026208,\n",
       "        3.74876424,  6.30858923,  2.37768009,  5.88282376,  8.22122232,\n",
       "        6.96559569,  3.06436274,  3.51260247,  5.19644301,  9.62070782,\n",
       "        7.56474623,  1.71269008,  6.88702195,  2.97281789,  9.02262071,\n",
       "        4.93928507,  2.99399674,  2.62094404,  4.61165266,  2.621978  ,\n",
       "        4.25351136,  9.72045846,  4.0369531 ,  0.25770304,  1.28405592,\n",
       "        8.42126714,  7.19870149,  1.21955002,  3.84750292,  5.99816728,\n",
       "        8.10798606,  4.41766045,  4.26077275,  5.97305091,  0.27144507,\n",
       "        6.84014389,  1.37258621,  9.57948302,  2.8678382 ,  8.33229192])"
      ]
     },
     "execution_count": 6,
     "metadata": {},
     "output_type": "execute_result"
    }
   ],
   "source": [
    "X"
   ]
  },
  {
   "cell_type": "code",
   "execution_count": 7,
   "metadata": {
    "collapsed": false
   },
   "outputs": [
    {
     "data": {
      "text/plain": [
       "50"
      ]
     },
     "execution_count": 7,
     "metadata": {},
     "output_type": "execute_result"
    }
   ],
   "source": [
    "len(_)"
   ]
  },
  {
   "cell_type": "code",
   "execution_count": 8,
   "metadata": {
    "collapsed": false
   },
   "outputs": [
    {
     "data": {
      "text/plain": [
       "array([  4.22617047,  18.63805044,  31.17669321,   7.19959468,\n",
       "        16.54313221,  21.27117377,  26.60890448,  14.85560617,\n",
       "        21.36755437,  15.83571743,  14.26830201,  18.99814388,\n",
       "         9.47817141,  23.63205779,  26.56106999,  20.69034392,\n",
       "        13.58043566,  17.30690396,  17.30349254,  29.50148737,\n",
       "        26.64740159,   6.19344698,  22.61206878,  14.00901043,\n",
       "        28.33859349,  16.67047397,  13.38622595,  10.01489834,\n",
       "        15.63594858,   9.17564152,  11.56731312,  27.4597526 ,\n",
       "        10.05957322,   5.00928464,   6.57850853,  24.98520009,\n",
       "        25.8047188 ,   7.42478673,  17.51353718,  24.17111512,\n",
       "        25.11078264,  14.90153054,  13.2077581 ,  18.34019671,\n",
       "        -0.6118522 ,  27.24377591,   1.77565543,  28.17648544,\n",
       "         5.37268427,  20.80241145])"
      ]
     },
     "execution_count": 8,
     "metadata": {},
     "output_type": "execute_result"
    }
   ],
   "source": [
    "y"
   ]
  },
  {
   "cell_type": "code",
   "execution_count": 10,
   "metadata": {
    "collapsed": false
   },
   "outputs": [
    {
     "data": {
      "image/png": "[encoded data removed]",
      "text/plain": [
       "<matplotlib.figure.Figure at 0x7fc3c65e9cd0>"
      ]
     },
     "metadata": {},
     "output_type": "display_data"
    }
   ],
   "source": [
    "plt.plot(xs, f(xs), '--')\n",
    "plt.scatter(X, y)\n",
    "plt.show()"
   ]
  },
  {
   "cell_type": "markdown",
   "metadata": {},
   "source": [
    "Dvije hipoteze iz našeg modela:"
   ]
  },
  {
   "cell_type": "code",
   "execution_count": 11,
   "metadata": {
    "collapsed": false
   },
   "outputs": [],
   "source": [
    "def h1(x): return h(x, [0,1])\n",
    "def h2(x): return h(x, [0,2])"
   ]
  },
  {
   "cell_type": "code",
   "execution_count": 12,
   "metadata": {
    "collapsed": false
   },
   "outputs": [
    {
     "data": {
      "image/png": "[encoded data removed]",
      "text/plain": [
       "<matplotlib.figure.Figure at 0x7fc3c65b1750>"
      ]
     },
     "metadata": {},
     "output_type": "display_data"
    }
   ],
   "source": [
    "weights = [[0,1], [0,2], [1,2]]\n",
    "plt.plot(xs, f(xs), '--')\n",
    "plt.scatter(X, y)\n",
    "plt.plot(xs, h1(xs), 'r', label='h1')\n",
    "plt.plot(xs, h2(xs), 'g', label='h2')\n",
    "plt.legend();"
   ]
  },
  {
   "cell_type": "markdown",
   "metadata": {},
   "source": [
    "Empirijske pogreške hipoteza na skupu $\\mathcal{D}$:"
   ]
  },
  {
   "cell_type": "code",
   "execution_count": 13,
   "metadata": {
    "collapsed": false
   },
   "outputs": [
    {
     "data": {
      "text/plain": [
       "4328.602078260581"
      ]
     },
     "execution_count": 13,
     "metadata": {},
     "output_type": "execute_result"
    }
   ],
   "source": [
    "error(h1, X, y)"
   ]
  },
  {
   "cell_type": "code",
   "execution_count": 14,
   "metadata": {
    "collapsed": false
   },
   "outputs": [
    {
     "data": {
      "text/plain": [
       "1492.8434254172773"
      ]
     },
     "execution_count": 14,
     "metadata": {},
     "output_type": "execute_result"
    }
   ],
   "source": [
    "error(h2, X, y)"
   ]
  },
  {
   "cell_type": "markdown",
   "metadata": {},
   "source": [
    "**(3) Optimizacijski postupak**\n",
    "\n",
    "* Tražimo $h\\in\\mathcal{H}$ koja minimizira empirijsku pogrešku\n",
    "\n",
    "$$\n",
    "h^* = \n",
    "\\mathrm{argmin}_{h\\in\\mathcal{H}} E(h|\\mathcal{D}) = \n",
    "\\mathrm{argmin}_{h\\in\\mathcal{H}} \\frac{1}{2}\n",
    "\\sum_{i=1}^N\\big(y^{(i)}-h(x^{(i)})\\big)^2\n",
    "$$\n",
    "\n",
    "* Hipoteza $h$ je indeksirana parametrima $(w_0, w_1)$, dakle zapravo tražimo\n",
    "\n",
    "$$\n",
    "(w_0,w_1)^* =\n",
    "\\mathrm{argmin}_{w_0,w_1} \\frac{1}{2} \n",
    "\\sum_{i=1}^N\\big(y^{(i)}-(w_1 x^{(i)} + w_0)\\big)^2\n",
    "$$\n",
    "\n",
    "* U ovom slučaju postoji **analitičko rješenje** (rješenje u zatvorenoj formi)\n",
    "\n",
    "\\begin{eqnarray*}\n",
    "    && \\nabla_{w_0,w_1} E(h|\\mathcal{D})=0\\\\\n",
    "    &&\\frac{\\partial}{\\partial w_0}\\Big[\n",
    "\\frac{1}{2}\\sum_i^N\\big(y^{(i)}-(w_1 x^{(i)}+ w_0)\\big)^2\\Big] = 0 \\\\\n",
    "&&\\frac{\\partial}{\\partial w_1}\\Big[\\frac{1}{2}\\sum_i^N\\big(y^{(i)}-(w_1 x^{(i)}+\n",
    "w_0)\\big)^2\\Big] = 0\\\\\n",
    "&&\\vdots\\\\\n",
    "&& w_0= \\bar{y} - w_1\\bar{x}\\\\\n",
    "&& w_1 = \\frac{\\sum_i^N x^{(i)}y^{(i)} - N\\bar{x}\\bar{y} }\n",
    "{\\sum_i^N(x^{(i)})^2 - N\\bar{x}^2}\n",
    "\\end{eqnarray*}\n"
   ]
  },
  {
   "cell_type": "code",
   "execution_count": 15,
   "metadata": {
    "collapsed": false
   },
   "outputs": [],
   "source": [
    "N = len(X)\n",
    "x_mean = sp.mean(X)\n",
    "y_mean = sp.mean(y)\n",
    "w1 = (np.dot(X, y) - N * x_mean * y_mean) / (sum(X**2) - N * (x_mean**2))\n",
    "w0 = sp.mean(y) - w1 * sp.mean(X)"
   ]
  },
  {
   "cell_type": "code",
   "execution_count": 16,
   "metadata": {
    "collapsed": false
   },
   "outputs": [
    {
     "name": "stdout",
     "output_type": "stream",
     "text": [
      "2.79743143699 2.97883751639\n"
     ]
    }
   ],
   "source": [
    "print w1, w0"
   ]
  },
  {
   "cell_type": "code",
   "execution_count": 17,
   "metadata": {
    "collapsed": false
   },
   "outputs": [],
   "source": [
    "def h_best(x): return h(x, [w0,w1])"
   ]
  },
  {
   "cell_type": "code",
   "execution_count": 18,
   "metadata": {
    "collapsed": false
   },
   "outputs": [
    {
     "data": {
      "image/png": "[encoded data removed]",
      "text/plain": [
       "<matplotlib.figure.Figure at 0x7fc3c659cb50>"
      ]
     },
     "metadata": {},
     "output_type": "display_data"
    }
   ],
   "source": [
    "plt.plot(xs, f(xs), '--')\n",
    "plt.scatter(X, y)\n",
    "plt.plot(xs, h_best(xs), 'r');"
   ]
  },
  {
   "cell_type": "code",
   "execution_count": 19,
   "metadata": {
    "collapsed": false
   },
   "outputs": [
    {
     "data": {
      "text/plain": [
       "165.70760152981572"
      ]
     },
     "execution_count": 19,
     "metadata": {},
     "output_type": "execute_result"
    }
   ],
   "source": [
    "error(h_best, X, y)"
   ]
  },
  {
   "cell_type": "markdown",
   "metadata": {},
   "source": [
    "* U gornjem primjeru radili smo s modelom prvog stupnja\n",
    "\n",
    "$$\n",
    "h_1(x) = w_1 x + w_0\n",
    "$$\n",
    "\n",
    "* Međutim, mogli smo odabrati i složeniji model, npr. polinom drugog stupnja:\n",
    "\n",
    "$$\n",
    "h_2(x) = w_2 x^2 + w_1 x + w_0\n",
    "$$\n",
    "\n",
    "* Ovo je i dalje linearna regresija, i dalje ima analitičko rješenje\n",
    "\n",
    "* Možemo očekivati da vrijedi:\n",
    "$$\n",
    "E(h_2|\\mathcal{D}) \\leq E(h_1|\\mathcal{D})\n",
    "$$\n",
    "Q: Zašto?\n",
    "\n",
    "\n",
    "* Q: Koji model odabrati u ovom slučaju?\n",
    "\n",
    "\n",
    "* Q: Koji model općenito odabrati za neke podatke $\\mathcal{D}$?"
   ]
  },
  {
   "cell_type": "markdown",
   "metadata": {},
   "source": [
    "#10. Problem šuma\n",
    "\n",
    "* **Šum** je neželjena anomalija u podacima\n",
    "\n",
    "\n",
    "* Mogući uzroci:\n",
    "  * Nepreciznost pri mjerenju značajki\n",
    "  * Pogreške u označavanju (engl. *teacher noise*)\n",
    "  * Postojanje skrivenih značajki (latentnih varijabli)\n",
    "  * Nejasne granice klasa (subjektivnost)\n",
    "\n",
    "\n",
    "* Zbog šuma je granica između pozitivnih i negativnih primjera složenija nego što bi idealno bila!\n",
    "\n",
    "\n",
    "* [Primjer 1: binarna klasifikacija po značajkama dobi i prihoda]\n",
    "\n",
    "\n",
    "* Jednostavni modeli ne mogu doseći $E(h|\\mathcal{D})=0$\n",
    "\n",
    "\n",
    "* S druge strane, složeni modeli uče šum, a ne pravu klasifikaciju!\n",
    "\n",
    "\n",
    "* [Primjer 2]\n",
    "\n",
    "\n",
    "* Šum u načelu nije moguće odvojiti od pravih podataka\n",
    "  * Moguće je samo za stršeće vrijednosti (engl. *outliers*)"
   ]
  },
  {
   "cell_type": "markdown",
   "metadata": {},
   "source": [
    "#11. Odabir modela\n",
    "\n",
    "* Moramo odabrati model $\\mathcal{H}$ (učenje bez pristranosti je uzaludno)!\n",
    "\n",
    "\n",
    "* Često radimo odabir modela unutar neke familije modela (npr. kod regresije: odabir stupnja polinoma)\n",
    "\n",
    "\n",
    "* Stupanj polinoma je **hiperparametar** modela ($w_i$ su parametri)\n",
    "\n",
    "\n",
    "* ** Odabir modela = optimizacija modela, odabir parametara **\n",
    "\n",
    "\n",
    "* Očito, što je veći kapacitet modela $\\mathcal{H}$, to je manja pogreška $E(h|\\mathcal{D})$, $h\\in\\mathcal{H}$\n",
    "\n",
    "\n",
    "* Ali model mora moći **generalizirati!**\n",
    "\n",
    "\n",
    "* Preferiramo jednostavne modele\n",
    "  * bolja generalizacija\n",
    "  * lakše učenje/uporaba\n",
    "  * lakše tumačenje\n",
    "\n",
    "\n",
    "* **Occamova britva**\n",
    "\n",
    "\n",
    "* Trebamo odabrati model koji točno odgovara *pravoj složenosti* funkcije koju nastojimo naučiti\n"
   ]
  },
  {
   "cell_type": "code",
   "execution_count": null,
   "metadata": {
    "collapsed": false
   },
   "outputs": [],
   "source": []
  }
 ],
 "metadata": {
  "kernelspec": {
   "display_name": "Python 3",
   "language": "python",
   "name": "python3"
  },
  "language_info": {
   "codemirror_mode": {
    "name": "ipython",
    "version": 3
   },
   "file_extension": ".py",
   "mimetype": "text/x-python",
   "name": "python",
   "nbconvert_exporter": "python",
   "pygments_lexer": "ipython3",
   "version": "3.5.0"
  }
 },
 "nbformat": 4,
 "nbformat_minor": 0
}
